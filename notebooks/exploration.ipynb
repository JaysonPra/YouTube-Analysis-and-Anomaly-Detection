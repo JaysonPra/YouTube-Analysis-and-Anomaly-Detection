{
 "cells": [
  {
   "cell_type": "markdown",
   "id": "b7efab9b",
   "metadata": {},
   "source": [
    "**Exploring** the dataset"
   ]
  },
  {
   "cell_type": "code",
   "execution_count": 16,
   "id": "aee977cd",
   "metadata": {},
   "outputs": [],
   "source": [
    "import pandas as pd\n",
    "df = pd.read_csv(\"../data/youtube_data.csv\")"
   ]
  },
  {
   "cell_type": "code",
   "execution_count": 17,
   "id": "471726da",
   "metadata": {},
   "outputs": [
    {
     "data": {
      "text/html": [
       "<div>\n",
       "<style scoped>\n",
       "    .dataframe tbody tr th:only-of-type {\n",
       "        vertical-align: middle;\n",
       "    }\n",
       "\n",
       "    .dataframe tbody tr th {\n",
       "        vertical-align: top;\n",
       "    }\n",
       "\n",
       "    .dataframe thead th {\n",
       "        text-align: right;\n",
       "    }\n",
       "</style>\n",
       "<table border=\"1\" class=\"dataframe\">\n",
       "  <thead>\n",
       "    <tr style=\"text-align: right;\">\n",
       "      <th></th>\n",
       "      <th>video_id</th>\n",
       "      <th>duration</th>\n",
       "      <th>bitrate</th>\n",
       "      <th>bitrate(video)</th>\n",
       "      <th>height</th>\n",
       "      <th>width</th>\n",
       "      <th>frame rate</th>\n",
       "      <th>frame rate(est.)</th>\n",
       "      <th>codec</th>\n",
       "      <th>category</th>\n",
       "      <th>url</th>\n",
       "      <th>title</th>\n",
       "      <th>description</th>\n",
       "      <th>hashtags</th>\n",
       "      <th>views</th>\n",
       "      <th>likes</th>\n",
       "      <th>comments</th>\n",
       "    </tr>\n",
       "  </thead>\n",
       "  <tbody>\n",
       "    <tr>\n",
       "      <th>0</th>\n",
       "      <td>--F7dc-_FSI</td>\n",
       "      <td>180</td>\n",
       "      <td>5777</td>\n",
       "      <td>5640</td>\n",
       "      <td>1920</td>\n",
       "      <td>1080</td>\n",
       "      <td>25.00</td>\n",
       "      <td>25.00</td>\n",
       "      <td>h264</td>\n",
       "      <td>News &amp; Politics</td>\n",
       "      <td>https://www.youtube.com/watch?v=--F7dc-_FSI</td>\n",
       "      <td>«السودان ينتفض» أمام السفارة بالقاهرة</td>\n",
       "      <td>حرية سلام وعدالة، الثورة خيار الشعب.. بهذا اله...</td>\n",
       "      <td>في, عسكري, حكم, حرية, بخصوص, المصري اليوم, الس...</td>\n",
       "      <td>4078</td>\n",
       "      <td>41</td>\n",
       "      <td>3</td>\n",
       "    </tr>\n",
       "    <tr>\n",
       "      <th>1</th>\n",
       "      <td>--cCAD-8Y_U</td>\n",
       "      <td>930</td>\n",
       "      <td>1195</td>\n",
       "      <td>1001</td>\n",
       "      <td>1280</td>\n",
       "      <td>720</td>\n",
       "      <td>30.00</td>\n",
       "      <td>30.00</td>\n",
       "      <td>h264</td>\n",
       "      <td>Gaming</td>\n",
       "      <td>https://www.youtube.com/watch?v=--cCAD-8Y_U</td>\n",
       "      <td>Pokemon Tower Defense   Episodio 2</td>\n",
       "      <td>Espero que tenham gostado do video!</td>\n",
       "      <td>Pokémon (Anime/Manga Franchise), Pokémon (Vide...</td>\n",
       "      <td>33</td>\n",
       "      <td>2</td>\n",
       "      <td>1</td>\n",
       "    </tr>\n",
       "    <tr>\n",
       "      <th>2</th>\n",
       "      <td>--g2gG8pQ0w</td>\n",
       "      <td>233</td>\n",
       "      <td>3028</td>\n",
       "      <td>2833</td>\n",
       "      <td>1280</td>\n",
       "      <td>720</td>\n",
       "      <td>23.98</td>\n",
       "      <td>23.98</td>\n",
       "      <td>h264</td>\n",
       "      <td>Comedy</td>\n",
       "      <td>https://www.youtube.com/watch?v=--g2gG8pQ0w</td>\n",
       "      <td>New Hip Hop - Kemo Treats - Pancakes</td>\n",
       "      <td>Download all our music for FREE just enter $0....</td>\n",
       "      <td>breaking bad spoof, Recipes, Pancakes, canada,...</td>\n",
       "      <td>13227</td>\n",
       "      <td>135</td>\n",
       "      <td>17</td>\n",
       "    </tr>\n",
       "  </tbody>\n",
       "</table>\n",
       "</div>"
      ],
      "text/plain": [
       "      video_id  duration  bitrate  bitrate(video)  height  width  frame rate  \\\n",
       "0  --F7dc-_FSI       180     5777            5640    1920   1080       25.00   \n",
       "1  --cCAD-8Y_U       930     1195            1001    1280    720       30.00   \n",
       "2  --g2gG8pQ0w       233     3028            2833    1280    720       23.98   \n",
       "\n",
       "   frame rate(est.) codec         category  \\\n",
       "0             25.00  h264  News & Politics   \n",
       "1             30.00  h264           Gaming   \n",
       "2             23.98  h264           Comedy   \n",
       "\n",
       "                                           url  \\\n",
       "0  https://www.youtube.com/watch?v=--F7dc-_FSI   \n",
       "1  https://www.youtube.com/watch?v=--cCAD-8Y_U   \n",
       "2  https://www.youtube.com/watch?v=--g2gG8pQ0w   \n",
       "\n",
       "                                   title  \\\n",
       "0  «السودان ينتفض» أمام السفارة بالقاهرة   \n",
       "1     Pokemon Tower Defense   Episodio 2   \n",
       "2   New Hip Hop - Kemo Treats - Pancakes   \n",
       "\n",
       "                                         description  \\\n",
       "0  حرية سلام وعدالة، الثورة خيار الشعب.. بهذا اله...   \n",
       "1                Espero que tenham gostado do video!   \n",
       "2  Download all our music for FREE just enter $0....   \n",
       "\n",
       "                                            hashtags  views  likes  comments  \n",
       "0  في, عسكري, حكم, حرية, بخصوص, المصري اليوم, الس...   4078     41         3  \n",
       "1  Pokémon (Anime/Manga Franchise), Pokémon (Vide...     33      2         1  \n",
       "2  breaking bad spoof, Recipes, Pancakes, canada,...  13227    135        17  "
      ]
     },
     "execution_count": 17,
     "metadata": {},
     "output_type": "execute_result"
    }
   ],
   "source": [
    "df.head(3)"
   ]
  },
  {
   "cell_type": "code",
   "execution_count": 18,
   "id": "2992d29a",
   "metadata": {},
   "outputs": [
    {
     "data": {
      "text/plain": [
       "Index(['video_id', 'duration', 'bitrate', 'bitrate(video)', 'height', 'width',\n",
       "       'frame rate', 'frame rate(est.)', 'codec', 'category', 'url', 'title',\n",
       "       'description', 'hashtags', 'views', 'likes', 'comments'],\n",
       "      dtype='object')"
      ]
     },
     "execution_count": 18,
     "metadata": {},
     "output_type": "execute_result"
    }
   ],
   "source": [
    "df.columns"
   ]
  },
  {
   "cell_type": "code",
   "execution_count": 19,
   "id": "ef1a8625",
   "metadata": {},
   "outputs": [
    {
     "data": {
      "text/plain": [
       "category\n",
       "People & Blogs          3946\n",
       "Music                   2966\n",
       "Entertainment           2252\n",
       "Gaming                  1420\n",
       "Sports                  1230\n",
       "Comedy                  1176\n",
       "Autos & Vehicles         798\n",
       "Education                644\n",
       "News & Politics          636\n",
       "Travel & Events          590\n",
       "Film & Animation         587\n",
       "Pets & Animals           476\n",
       "Howto & Style            340\n",
       "Science & Technology     283\n",
       "Nonprofits & Activis     227\n",
       "Shows                     18\n",
       "Name: count, dtype: int64"
      ]
     },
     "execution_count": 19,
     "metadata": {},
     "output_type": "execute_result"
    }
   ],
   "source": [
    "df[\"category\"].value_counts()"
   ]
  },
  {
   "cell_type": "code",
   "execution_count": 20,
   "id": "fae45429",
   "metadata": {},
   "outputs": [
    {
     "data": {
      "text/plain": [
       "video_id               0\n",
       "duration               0\n",
       "bitrate                0\n",
       "bitrate(video)         0\n",
       "height                 0\n",
       "width                  0\n",
       "frame rate             0\n",
       "frame rate(est.)       0\n",
       "codec                  0\n",
       "category               0\n",
       "url                    0\n",
       "title                  0\n",
       "description         1112\n",
       "hashtags            1576\n",
       "views                  0\n",
       "likes                  0\n",
       "comments               0\n",
       "dtype: int64"
      ]
     },
     "execution_count": 20,
     "metadata": {},
     "output_type": "execute_result"
    }
   ],
   "source": [
    "df.isna().sum()"
   ]
  },
  {
   "cell_type": "code",
   "execution_count": 21,
   "id": "0cfe658c",
   "metadata": {},
   "outputs": [
    {
     "data": {
      "text/plain": [
       "np.int64(0)"
      ]
     },
     "execution_count": 21,
     "metadata": {},
     "output_type": "execute_result"
    }
   ],
   "source": [
    "df.duplicated(subset=[\"video_id\"]).sum()"
   ]
  },
  {
   "cell_type": "code",
   "execution_count": null,
   "id": "17e43594",
   "metadata": {},
   "outputs": [
    {
     "data": {
      "text/plain": [
       "CategoricalDtype(categories=['Autos & Vehicles', 'Comedy', 'Education', 'Entertainment',\n",
       "                  'Film & Animation', 'Gaming', 'Howto & Style', 'Music',\n",
       "                  'News & Politics', 'Nonprofits & Activis', 'People & Blogs',\n",
       "                  'Pets & Animals', 'Science & Technology', 'Shows', 'Sports',\n",
       "                  'Travel & Events'],\n",
       ", ordered=False, categories_dtype=object)"
      ]
     },
     "execution_count": 32,
     "metadata": {},
     "output_type": "execute_result"
    }
   ],
   "source": [
    "df['category'] = df['category'].astype('category')"
   ]
  }
 ],
 "metadata": {
  "kernelspec": {
   "display_name": "venv",
   "language": "python",
   "name": "python3"
  },
  "language_info": {
   "codemirror_mode": {
    "name": "ipython",
    "version": 3
   },
   "file_extension": ".py",
   "mimetype": "text/x-python",
   "name": "python",
   "nbconvert_exporter": "python",
   "pygments_lexer": "ipython3",
   "version": "3.12.4"
  }
 },
 "nbformat": 4,
 "nbformat_minor": 5
}
