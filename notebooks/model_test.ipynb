{
 "cells": [
  {
   "cell_type": "markdown",
   "id": "bcb9855c",
   "metadata": {},
   "source": [
    "## Model testing to ensure project feasibility"
   ]
  },
  {
   "cell_type": "code",
   "execution_count": 1,
   "id": "3d261a53",
   "metadata": {},
   "outputs": [],
   "source": [
    "import pandas as pd\n",
    "df = pd.read_csv(\"../data/youtube_data.csv\")"
   ]
  },
  {
   "cell_type": "code",
   "execution_count": 2,
   "id": "cc3ea70f",
   "metadata": {},
   "outputs": [
    {
     "data": {
      "text/plain": [
       "Index(['video_id', 'duration', 'bitrate', 'bitrate(video)', 'height', 'width',\n",
       "       'frame rate', 'frame rate(est.)', 'codec', 'category', 'url', 'title',\n",
       "       'description', 'hashtags', 'views', 'likes', 'comments'],\n",
       "      dtype='object')"
      ]
     },
     "execution_count": 2,
     "metadata": {},
     "output_type": "execute_result"
    }
   ],
   "source": [
    "df.columns"
   ]
  },
  {
   "cell_type": "markdown",
   "id": "14a60fcc",
   "metadata": {},
   "source": [
    "**Dropping** Null rows in features that will be used later for anomaly detection"
   ]
  },
  {
   "cell_type": "code",
   "execution_count": 3,
   "id": "77ab4f19",
   "metadata": {},
   "outputs": [],
   "source": [
    "df.dropna(subset=['bitrate', 'views', 'likes', 'duration'], inplace=True);"
   ]
  },
  {
   "cell_type": "markdown",
   "id": "c8e5af5c",
   "metadata": {},
   "source": [
    "Using **Isolation Forest** for  quick anomaly detection without getting very complex"
   ]
  },
  {
   "cell_type": "code",
   "execution_count": 5,
   "id": "63bbe3da",
   "metadata": {},
   "outputs": [],
   "source": [
    "from sklearn.ensemble import IsolationForest\n",
    "\n",
    "features = df[['bitrate', 'views', 'likes', 'duration']]\n",
    "model = IsolationForest(contamination=0.01, random_state=42)\n",
    "df['is_anomaly'] = model.fit_predict(features)"
   ]
  },
  {
   "cell_type": "markdown",
   "id": "7df7a72a",
   "metadata": {},
   "source": [
    "**Filtering** the dataframe to get the number of anomalies"
   ]
  },
  {
   "cell_type": "code",
   "execution_count": 6,
   "id": "93335bb4",
   "metadata": {},
   "outputs": [
    {
     "name": "stdout",
     "output_type": "stream",
     "text": [
      "Found 176 out of 17589 videos\n"
     ]
    }
   ],
   "source": [
    "anomalies = df[df['is_anomaly'] == -1]\n",
    "print(f\"Found {len(anomalies)} out of {len(df)} videos\")"
   ]
  },
  {
   "cell_type": "markdown",
   "id": "9db2dc03",
   "metadata": {},
   "source": [
    "176 videos are flagged as anomalies. Therefore, project is feasible."
   ]
  }
 ],
 "metadata": {
  "kernelspec": {
   "display_name": "venv",
   "language": "python",
   "name": "python3"
  },
  "language_info": {
   "codemirror_mode": {
    "name": "ipython",
    "version": 3
   },
   "file_extension": ".py",
   "mimetype": "text/x-python",
   "name": "python",
   "nbconvert_exporter": "python",
   "pygments_lexer": "ipython3",
   "version": "3.12.4"
  }
 },
 "nbformat": 4,
 "nbformat_minor": 5
}
